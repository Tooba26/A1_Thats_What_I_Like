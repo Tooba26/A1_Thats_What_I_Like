{
 "cells": [
  {
   "attachments": {},
   "cell_type": "markdown",
   "metadata": {},
   "source": [
    "# GloVe (Gensim)\n",
    "\n",
    "For looking at word vectors, we'll use **Gensim**. **Gensim** isn't really a deep learning package. It's a package for for word and text similarity modeling, which started with (LDA-style) topic models and grew into SVD and neural word representations. But its efficient and scalable, and quite widely used.   We gonna use **GloVe** embeddings, downloaded at [the Glove page](https://nlp.stanford.edu/projects/glove/). They're inside [this zip file](https://nlp.stanford.edu/data/glove.6B.zip)"
   ]
  },
  {
   "cell_type": "code",
   "execution_count": 5,
   "metadata": {},
   "outputs": [],
   "source": [
    "from gensim.test.utils import datapath\n",
    "from gensim.models import KeyedVectors\n",
    "from gensim.scripts.glove2word2vec import glove2word2vec\n",
    "import gensim\n",
    "\n",
    "#you have to put this file in some python/gensim directory; just run it and it will inform where to put....\n"
   ]
  },
  {
   "cell_type": "code",
   "execution_count": 6,
   "metadata": {},
   "outputs": [],
   "source": [
    "from nltk.corpus import brown\n",
    "model = gensim.models.Word2Vec(brown.sents())"
   ]
  },
  {
   "cell_type": "code",
   "execution_count": 7,
   "metadata": {},
   "outputs": [],
   "source": [
    "# model.save('brown.embedding')\n",
    "new_model = gensim.models.Word2Vec.load('brown.embedding')"
   ]
  },
  {
   "cell_type": "code",
   "execution_count": 8,
   "metadata": {},
   "outputs": [
    {
     "name": "stdout",
     "output_type": "stream",
     "text": [
      "Most similar words to 'government': [('nation', 0.9280838370323181), ('policy', 0.9250353574752808), ('power', 0.9234175086021423), ('Christian', 0.9232916235923767), ('education', 0.9203680753707886)]\n"
     ]
    }
   ],
   "source": [
    "similar_words = new_model.wv.most_similar(positive=['government'], topn=5)\n",
    "print(\"Most similar words to 'government':\", similar_words)\n"
   ]
  },
  {
   "cell_type": "markdown",
   "metadata": {},
   "source": [
    "### Similarity"
   ]
  },
  {
   "cell_type": "code",
   "execution_count": 9,
   "metadata": {},
   "outputs": [
    {
     "data": {
      "text/plain": [
       "<gensim.models.word2vec.Word2Vec at 0x1d2e7864bc0>"
      ]
     },
     "execution_count": 9,
     "metadata": {},
     "output_type": "execute_result"
    }
   ],
   "source": [
    "model"
   ]
  },
  {
   "cell_type": "code",
   "execution_count": 10,
   "metadata": {},
   "outputs": [
    {
     "data": {
      "text/plain": [
       "[('nation', 0.9279057383537292),\n",
       " ('policy', 0.9250144362449646),\n",
       " ('Christian', 0.9232736229896545),\n",
       " ('power', 0.9232452511787415),\n",
       " ('education', 0.9202072024345398),\n",
       " ('national', 0.9139093160629272),\n",
       " ('community', 0.9122931957244873),\n",
       " ('land', 0.9081918597221375),\n",
       " ('property', 0.9075236320495605),\n",
       " ('influence', 0.9051196575164795)]"
      ]
     },
     "execution_count": 10,
     "metadata": {},
     "output_type": "execute_result"
    }
   ],
   "source": [
    "model.wv.most_similar('government')\n"
   ]
  },
  {
   "cell_type": "code",
   "execution_count": 11,
   "metadata": {},
   "outputs": [
    {
     "data": {
      "text/plain": [
       "[('Review', 0.9577980041503906),\n",
       " ('delightful', 0.9483787417411804),\n",
       " ('Don', 0.9465796947479248),\n",
       " ('Inquirer', 0.9457221627235413),\n",
       " ('ended', 0.9447577595710754),\n",
       " ('birth', 0.9441759586334229),\n",
       " ('whipped', 0.9437397122383118),\n",
       " ('Spirit', 0.9433591365814209),\n",
       " ('painting', 0.9433534741401672),\n",
       " ('device', 0.9419150352478027)]"
      ]
     },
     "execution_count": 11,
     "metadata": {},
     "output_type": "execute_result"
    }
   ],
   "source": [
    "model.wv.most_similar('news')"
   ]
  },
  {
   "cell_type": "code",
   "execution_count": 12,
   "metadata": {},
   "outputs": [
    {
     "data": {
      "text/plain": [
       "[('burst', 0.9702394008636475),\n",
       " ('canvas', 0.9620493650436401),\n",
       " ('blood', 0.9619907736778259),\n",
       " ('dust', 0.9555068016052246),\n",
       " ('flowing', 0.9554644823074341),\n",
       " ('bank', 0.9544098973274231),\n",
       " ('passing', 0.9529252052307129),\n",
       " ('dirt', 0.9526296854019165),\n",
       " ('stomach', 0.9521534442901611),\n",
       " ('pocket', 0.9510592818260193)]"
      ]
     },
     "execution_count": 12,
     "metadata": {},
     "output_type": "execute_result"
    }
   ],
   "source": [
    "model.wv.most_similar('cockpit')"
   ]
  },
  {
   "cell_type": "code",
   "execution_count": 13,
   "metadata": {},
   "outputs": [
    {
     "data": {
      "text/plain": [
       "[('annual', 0.9619813561439514),\n",
       " ('stock', 0.9529207348823547),\n",
       " ('energy', 0.9506484270095825),\n",
       " ('location', 0.9442635774612427),\n",
       " ('loss', 0.9398342967033386),\n",
       " ('expansion', 0.9392889142036438),\n",
       " ('department', 0.9380192756652832),\n",
       " ('substrate', 0.9379692673683167),\n",
       " ('central', 0.9372914433479309),\n",
       " ('minimum', 0.9368343353271484)]"
      ]
     },
     "execution_count": 13,
     "metadata": {},
     "output_type": "execute_result"
    }
   ],
   "source": [
    "#multiple meanings....\n",
    "model.wv.most_similar(\"plant\")"
   ]
  },
  {
   "cell_type": "code",
   "execution_count": 14,
   "metadata": {},
   "outputs": [
    {
     "data": {
      "text/plain": [
       "[('Pozzatti', -0.004299193620681763),\n",
       " ('no', -0.13609802722930908),\n",
       " ('could', -0.14059874415397644),\n",
       " ('I', -0.14125190675258636),\n",
       " ('would', -0.14532732963562012),\n",
       " ('they', -0.14568939805030823),\n",
       " ('were', -0.14871619641780853),\n",
       " ('Manuel', -0.1493726521730423),\n",
       " ('We', -0.15025247633457184),\n",
       " ('should', -0.1529759019613266)]"
      ]
     },
     "execution_count": 14,
     "metadata": {},
     "output_type": "execute_result"
    }
   ],
   "source": [
    "model.wv.most_similar(negative='pilot')"
   ]
  },
  {
   "cell_type": "code",
   "execution_count": 15,
   "metadata": {},
   "outputs": [
    {
     "name": "stdout",
     "output_type": "stream",
     "text": [
      "pains: 0.9277\n"
     ]
    }
   ],
   "source": [
    "#woman + king - man\n",
    "result = model.wv.most_similar(positive=['pilot', 'flight'], negative=['member'])\n",
    "print(\"{}: {:.4f}\".format(*result[0]))"
   ]
  },
  {
   "cell_type": "code",
   "execution_count": 16,
   "metadata": {},
   "outputs": [
    {
     "name": "stdout",
     "output_type": "stream",
     "text": [
      "urbanization: 0.8427\n"
     ]
    }
   ],
   "source": [
    "result = model.wv.most_similar(positive=['fraud', 'member'], negative=['Italy'])\n",
    "print(\"{}: {:.4f}\".format(*result[0]))"
   ]
  },
  {
   "attachments": {},
   "cell_type": "markdown",
   "metadata": {},
   "source": [
    "### Cosine Similarity\n",
    "\n",
    "We have talked about this in the last class.  Here we can conveniently use `distance` to find the cosine distance between two words. Note that distance = 1 - similarity."
   ]
  },
  {
   "cell_type": "code",
   "execution_count": 17,
   "metadata": {},
   "outputs": [
    {
     "data": {
      "text/plain": [
       "(0.08878970146179199, 0.13059818744659424)"
      ]
     },
     "execution_count": 17,
     "metadata": {},
     "output_type": "execute_result"
    }
   ],
   "source": [
    "w1 = \"flight\"\n",
    "w2 = \"pilot\"\n",
    "w3 = \"news\"\n",
    "w1_w2_dist = model.wv.distance(w1, w2)\n",
    "w1_w3_dist = model.wv.distance(w1, w3)\n",
    "\n",
    "#dog is much closer to cat then dog to fruit\n",
    "w1_w2_dist, w1_w3_dist"
   ]
  },
  {
   "cell_type": "code",
   "execution_count": 18,
   "metadata": {},
   "outputs": [
    {
     "data": {
      "text/plain": [
       "(0.381563663482666, 0.13220059871673584)"
      ]
     },
     "execution_count": 18,
     "metadata": {},
     "output_type": "execute_result"
    }
   ],
   "source": [
    "w1 = \"happy\" # synonym 1\n",
    "w2 = \"cheerful\" # synonym 2\n",
    "w3 = \"sad\" # antonym\n",
    "w1_w2_dist = model.wv.distance(w1, w2)\n",
    "w1_w3_dist = model.wv.distance(w1, w3)\n",
    "\n",
    "#$w_1$=\"happy\" is closer to $w_3$=\"sad\" than to $w_2$=\"cheerful\"!!\n",
    "#those similarlity does not handle antonym....\n",
    "w1_w2_dist, w1_w3_dist"
   ]
  },
  {
   "cell_type": "markdown",
   "metadata": {},
   "source": [
    "### Analogy"
   ]
  },
  {
   "cell_type": "code",
   "execution_count": 19,
   "metadata": {},
   "outputs": [],
   "source": [
    "def analogy(x1, x2, y1):\n",
    "    result = model.most_similar(positive=[y1, x2], negative=[x1])\n",
    "    return result[0][0]"
   ]
  },
  {
   "cell_type": "code",
   "execution_count": 18,
   "metadata": {},
   "outputs": [
    {
     "data": {
      "text/plain": [
       "'tapas'"
      ]
     },
     "execution_count": 18,
     "metadata": {},
     "output_type": "execute_result"
    }
   ],
   "source": [
    "analogy('japan', 'sushi', 'italy')"
   ]
  },
  {
   "cell_type": "code",
   "execution_count": 19,
   "metadata": {},
   "outputs": [
    {
     "data": {
      "text/plain": [
       "'champagne'"
      ]
     },
     "execution_count": 19,
     "metadata": {},
     "output_type": "execute_result"
    }
   ],
   "source": [
    "analogy('australia', 'beer', 'france')"
   ]
  },
  {
   "cell_type": "code",
   "execution_count": 20,
   "metadata": {},
   "outputs": [
    {
     "data": {
      "text/plain": [
       "'nixon'"
      ]
     },
     "execution_count": 20,
     "metadata": {},
     "output_type": "execute_result"
    }
   ],
   "source": [
    "analogy('obama', 'clinton', 'reagan')"
   ]
  },
  {
   "cell_type": "code",
   "execution_count": 21,
   "metadata": {},
   "outputs": [
    {
     "data": {
      "text/plain": [
       "'longest'"
      ]
     },
     "execution_count": 21,
     "metadata": {},
     "output_type": "execute_result"
    }
   ],
   "source": [
    "analogy('tall', 'tallest', 'long')"
   ]
  },
  {
   "cell_type": "code",
   "execution_count": 22,
   "metadata": {},
   "outputs": [
    {
     "data": {
      "text/plain": [
       "'terrible'"
      ]
     },
     "execution_count": 22,
     "metadata": {},
     "output_type": "execute_result"
    }
   ],
   "source": [
    "analogy('good', 'fantastic', 'bad')"
   ]
  },
  {
   "cell_type": "code",
   "execution_count": 23,
   "metadata": {},
   "outputs": [
    {
     "data": {
      "text/plain": [
       "'bound'"
      ]
     },
     "execution_count": 23,
     "metadata": {},
     "output_type": "execute_result"
    }
   ],
   "source": [
    "analogy('bird', 'fly', 'human')"
   ]
  },
  {
   "cell_type": "code",
   "execution_count": 24,
   "metadata": {},
   "outputs": [
    {
     "name": "stdout",
     "output_type": "stream",
     "text": [
      "water\n"
     ]
    }
   ],
   "source": [
    "#which word in the list does not belong\n",
    "print(model.doesnt_match(\"coke pepsi sprite water\".split()))"
   ]
  },
  {
   "cell_type": "markdown",
   "metadata": {},
   "source": [
    "### Visualization"
   ]
  },
  {
   "cell_type": "code",
   "execution_count": 21,
   "metadata": {},
   "outputs": [
    {
     "data": {
      "image/png": "[encoded data removed]",
      "text/plain": [
       "<Figure size 1200x1200 with 1 Axes>"
      ]
     },
     "metadata": {},
     "output_type": "display_data"
    }
   ],
   "source": [
    "\n",
    "from sklearn.decomposition import PCA\n",
    "import numpy as np\n",
    "import matplotlib.pyplot as plt\n",
    "from nltk.corpus import brown\n",
    "import random\n",
    "\n",
    "# Extract words from the Brown corpus and filter out duplicates\n",
    "words_from_brown = list(set(word.lower() for sent in brown.sents() for word in sent))\n",
    "\n",
    "# Randomly sample a subset of words for visualization (optional)\n",
    "# Adjust `sample_size` to include more or fewer words\n",
    "sample_size = 100\n",
    "random_words = random.sample(words_from_brown, sample_size)\n",
    "\n",
    "# Filter out words not in the Word2Vec vocabulary\n",
    "valid_words = [word for word in random_words if word in new_model.wv.key_to_index]\n",
    "\n",
    "# Get the word vectors for the valid words\n",
    "word_vectors = np.array([new_model.wv[word] for word in valid_words])\n",
    "\n",
    "# Reduce dimensions to 2D using PCA\n",
    "pca = PCA(n_components=2)\n",
    "twodim = pca.fit_transform(word_vectors)\n",
    "\n",
    "# Plot the results\n",
    "plt.figure(figsize=(12, 12))\n",
    "plt.scatter(twodim[:, 0], twodim[:, 1], edgecolors='k', c='r')\n",
    "for word, (x, y) in zip(valid_words, twodim):\n",
    "    plt.text(x + 0.05, y + 0.05, word, fontsize=10)\n",
    "\n",
    "plt.title(\"Word Embeddings Visualization (Brown Corpus Sample)\")\n",
    "plt.show()\n"
   ]
  },
  {
   "cell_type": "code",
   "execution_count": 22,
   "metadata": {},
   "outputs": [],
   "source": [
    "# Function to load and split the dataset into semantic and syntactic questions\n",
    "def load_dataset(filepath):\n",
    "    \"\"\"\n",
    "    Load the analogy dataset and split into semantic and syntactic categories.\n",
    "    Args:\n",
    "        filepath (str): Path to the dataset file.\n",
    "    Returns:\n",
    "        tuple: Two lists containing semantic and syntactic analogy questions.\n",
    "    \"\"\"\n",
    "    semantic_questions = []\n",
    "    syntactic_questions = []\n",
    "    current_section = None\n",
    "\n",
    "    with open(filepath, \"r\") as f:\n",
    "        for line in f:\n",
    "            line = line.strip()\n",
    "            if line.startswith(\":\"):\n",
    "                # Identify the section type\n",
    "                if \"capital-common-countries\" in line.lower():\n",
    "                    current_section = \"semantic\"\n",
    "                elif \"past-tense\" in line.lower():\n",
    "                    current_section = \"syntactic\"\n",
    "                else:\n",
    "                    current_section = None\n",
    "            elif current_section == \"semantic\":\n",
    "                semantic_questions.append(line.split())\n",
    "            elif current_section == \"syntactic\":\n",
    "                syntactic_questions.append(line.split())\n",
    "    \n",
    "    return semantic_questions, syntactic_questions"
   ]
  },
  {
   "cell_type": "code",
   "execution_count": 23,
   "metadata": {},
   "outputs": [],
   "source": [
    "# Define calculate_accuracy function\n",
    "from sklearn.metrics.pairwise import cosine_similarity\n",
    "import numpy as np\n",
    "\n",
    "def calculate_accuracy(questions, word_vectors, word2index):\n",
    "    \"\"\"\n",
    "    Calculate accuracy for analogy questions.\n",
    "    Args:\n",
    "        questions (list): List of analogy questions in format [a, b, c, d].\n",
    "        word_vectors (np.array): Word embedding matrix.\n",
    "        word2index (dict): Mapping of words to their indices in the embedding matrix.\n",
    "    Returns:\n",
    "        float: Accuracy as a percentage.\n",
    "    \"\"\"\n",
    "    correct = 0\n",
    "    total = 0\n",
    "\n",
    "    for a, b, c, d in questions:\n",
    "        try:\n",
    "            # Ensure all words are in the vocabulary\n",
    "            if a in word2index and b in word2index and c in word2index and d in word2index:\n",
    "                vec_a = word_vectors[word2index[a]]\n",
    "                vec_b = word_vectors[word2index[b]]\n",
    "                vec_c = word_vectors[word2index[c]]\n",
    "\n",
    "                # Compute vector: b - a + c\n",
    "                target_vector = vec_b - vec_a + vec_c\n",
    "\n",
    "                # Compute cosine similarities\n",
    "                similarities = cosine_similarity(target_vector.reshape(1, -1), word_vectors)\n",
    "                predicted_index = np.argmax(similarities)\n",
    "\n",
    "                # Retrieve the predicted word\n",
    "                predicted_word = list(word2index.keys())[predicted_index]\n",
    "\n",
    "                if predicted_word == d:\n",
    "                    correct += 1\n",
    "                total += 1\n",
    "        except KeyError:\n",
    "            # Skip if any word is not in the vocabulary\n",
    "            continue\n",
    "\n",
    "    return (correct / total) * 100 if total > 0 else 0"
   ]
  },
  {
   "cell_type": "code",
   "execution_count": 24,
   "metadata": {},
   "outputs": [
    {
     "name": "stdout",
     "output_type": "stream",
     "text": [
      "Semantic Accuracy: 0.00%\n",
      "Syntactic Accuracy: 0.08%\n"
     ]
    }
   ],
   "source": [
    "# Load the dataset\n",
    "dataset_file = \"word-test.v1.txt\"\n",
    "\n",
    "\n",
    "\n",
    "# Load semantic and syntactic questions\n",
    "semantic_questions, syntactic_questions = load_dataset(dataset_file)\n",
    "\n",
    "# Prepare word vectors and word2index\n",
    "word_vectors = new_model.wv.vectors  # Word embedding matrix\n",
    "word2index = {word: idx for idx, word in enumerate(new_model.wv.index_to_key)}\n",
    "\n",
    "\n",
    "\n",
    "# Calculate accuracies\n",
    "semantic_accuracy = calculate_accuracy(semantic_questions, word_vectors, word2index)\n",
    "syntactic_accuracy = calculate_accuracy(syntactic_questions, word_vectors, word2index)\n",
    "\n",
    "# Print results\n",
    "print(f\"Semantic Accuracy: {semantic_accuracy:.2f}%\")\n",
    "print(f\"Syntactic Accuracy: {syntactic_accuracy:.2f}%\")\n"
   ]
  },
  {
   "cell_type": "code",
   "execution_count": 40,
   "metadata": {},
   "outputs": [
    {
     "name": "stdout",
     "output_type": "stream",
     "text": [
      "[ 0.24293298  1.5617957   0.5121485   0.52857745 -0.6878522  -0.9278225\n",
      "  1.5899794  -0.10833415 -0.5321149  -0.48679182  0.63970643  0.2374652\n",
      "  0.9493387  -0.41469616 -0.45870706  1.0161306  -1.3428508  -0.868837\n",
      " -0.4796059  -1.311169    0.7913593   0.9862174   0.36956704 -0.5558142\n",
      " -0.726037    0.32404464  0.54611385 -1.1215762  -1.141693    0.8444152\n",
      " -0.59419286 -0.04327312  0.04307627  0.8041814   0.27291322 -0.9345959\n",
      "  0.19817194 -0.4103749  -1.2073148  -0.1963934  -1.1235744   0.36000973\n",
      " -0.06948667 -0.4403129   1.0132779   0.5542793   0.39819375  0.9400895\n",
      "  0.2582892  -0.06010263 -0.10383717  0.5144473   0.46930748 -0.6184748\n",
      "  0.71805584 -0.66957307  0.49415126 -0.7171561  -1.4998271   0.04714202\n",
      "  1.2313678   0.76767147 -0.74596274 -1.0724891  -0.7305984   0.45220396\n",
      " -1.2393025   0.8642767  -0.7585473   0.6133182   0.07486981 -0.11232229\n",
      " -0.5617895  -0.81546354  0.22068542  1.2461424   0.8397422  -0.4387315\n",
      "  0.06597789 -0.43028614 -0.03245175  0.8370363   0.54896975  0.49300006\n",
      " -1.0817364  -0.15675911  1.1627853  -0.09776354  0.05557398  0.6564389\n",
      "  0.8022999   0.10340618  0.00659644  0.43035164  0.1891423   0.04135404\n",
      " -1.4338744  -0.5124795   1.0828694   0.8654184 ]\n"
     ]
    }
   ],
   "source": [
    "print(new_model.wv['the'])"
   ]
  },
  {
   "cell_type": "code",
   "execution_count": 25,
   "metadata": {},
   "outputs": [],
   "source": [
    "def load_similarity_dataset(filepath):\n",
    "    \"\"\"\n",
    "    Load the WordSim similarity dataset.\n",
    "    Args:\n",
    "        filepath (str): Path to the dataset file.\n",
    "    Returns:\n",
    "        list: List of tuples (word1, word2, human_score).\n",
    "    \"\"\"\n",
    "    pairs = []\n",
    "    with open(filepath, \"r\") as f:\n",
    "        lines = f.readlines()\n",
    "        for line in lines:\n",
    "            word1, word2, score = line.strip().split()\n",
    "            pairs.append((word1, word2, float(score)))\n",
    "    return pairs\n",
    "\n",
    "\n"
   ]
  },
  {
   "cell_type": "code",
   "execution_count": 26,
   "metadata": {},
   "outputs": [
    {
     "name": "stdout",
     "output_type": "stream",
     "text": [
      "Loaded 203 word pairs from the dataset.\n"
     ]
    }
   ],
   "source": [
    "# Example: Load `wordsim_similarity_goldstandard`\n",
    "similarity_dataset = load_similarity_dataset(\"wordsim353/wordsim_similarity_goldstandard.txt\")\n",
    "print(f\"Loaded {len(similarity_dataset)} word pairs from the dataset.\")"
   ]
  },
  {
   "cell_type": "code",
   "execution_count": 29,
   "metadata": {},
   "outputs": [],
   "source": [
    "from scipy.stats import spearmanr\n",
    "from sklearn.metrics import mean_squared_error\n",
    "import numpy as np\n",
    "\n",
    "\n",
    "\n",
    "# Function to compute model similarity using dot product\n",
    "def compute_model_similarity(word_vectors, similarity_dataset):\n",
    "    \"\"\"\n",
    "    Compute model similarity for word pairs using dot product.\n",
    "    Args:\n",
    "        word_vectors (dict): Dictionary mapping words to their embeddings.\n",
    "        similarity_dataset (list): List of tuples (word1, word2, human_score).\n",
    "    Returns:\n",
    "        tuple: List of model scores and human similarity scores.\n",
    "    \"\"\"\n",
    "    model_scores = []\n",
    "    human_scores = []\n",
    "\n",
    "    for word1, word2, human_score in similarity_dataset:\n",
    "        if word1 in word_vectors and word2 in word_vectors:\n",
    "            vec1 = word_vectors[word1]\n",
    "            vec2 = word_vectors[word2]\n",
    "            model_score = np.dot(vec1, vec2)  # Dot product as similarity\n",
    "            model_scores.append(model_score)\n",
    "            human_scores.append(human_score)\n",
    "        else:\n",
    "            print(f\"Skipping pair ({word1}, {word2}): Out of vocabulary\")\n",
    "\n",
    "    return model_scores, human_scores\n",
    "\n",
    "\n",
    "   \n"
   ]
  },
  {
   "cell_type": "code",
   "execution_count": 34,
   "metadata": {},
   "outputs": [
    {
     "name": "stdout",
     "output_type": "stream",
     "text": [
      "Skipping pair (cucumber, potato): Out of vocabulary\n",
      "Skipping pair (king, rook): Out of vocabulary\n",
      "Skipping pair (fuck, sex): Out of vocabulary\n",
      "Skipping pair (football, soccer): Out of vocabulary\n",
      "Skipping pair (Arafat, Jackson): Out of vocabulary\n",
      "Skipping pair (vodka, gin): Out of vocabulary\n",
      "Skipping pair (vodka, brandy): Out of vocabulary\n",
      "Skipping pair (gem, jewel): Out of vocabulary\n",
      "Skipping pair (asylum, madhouse): Out of vocabulary\n",
      "Skipping pair (magician, wizard): Out of vocabulary\n",
      "Skipping pair (bird, crane): Out of vocabulary\n",
      "Skipping pair (food, rooster): Out of vocabulary\n",
      "Skipping pair (tiger, jaguar): Out of vocabulary\n",
      "Skipping pair (tiger, feline): Out of vocabulary\n",
      "Skipping pair (tiger, carnivore): Out of vocabulary\n",
      "Skipping pair (tiger, mammal): Out of vocabulary\n",
      "Skipping pair (tiger, fauna): Out of vocabulary\n",
      "Skipping pair (psychology, psychiatry): Out of vocabulary\n",
      "Skipping pair (precedent, antecedent): Out of vocabulary\n",
      "Skipping pair (cup, tableware): Out of vocabulary\n",
      "Skipping pair (cup, artifact): Out of vocabulary\n",
      "Skipping pair (jaguar, cat): Out of vocabulary\n",
      "Skipping pair (jaguar, car): Out of vocabulary\n",
      "Skipping pair (hospital, infrastructure): Out of vocabulary\n",
      "Skipping pair (dollar, yen): Out of vocabulary\n",
      "Skipping pair (marathon, sprint): Out of vocabulary\n",
      "Skipping pair (seafood, food): Out of vocabulary\n",
      "Skipping pair (seafood, lobster): Out of vocabulary\n",
      "Skipping pair (lobster, food): Out of vocabulary\n",
      "Skipping pair (lobster, wine): Out of vocabulary\n",
      "Skipping pair (murder, manslaughter): Out of vocabulary\n",
      "Skipping pair (shower, thunderstorm): Out of vocabulary\n",
      "Skipping pair (monk, oracle): Out of vocabulary\n",
      "Skipping pair (deployment, departure): Out of vocabulary\n",
      "Skipping pair (benchmark, index): Out of vocabulary\n",
      "Skipping pair (chance, credibility): Out of vocabulary\n",
      "Skipping pair (shore, woodland): Out of vocabulary\n",
      "Skipping pair (president, medal): Out of vocabulary\n",
      "Skipping pair (viewer, serial): Out of vocabulary\n",
      "Skipping pair (precedent, cognition): Out of vocabulary\n",
      "Skipping pair (crane, implement): Out of vocabulary\n",
      "Skipping pair (volunteer, motto): Out of vocabulary\n",
      "Skipping pair (sign, recess): Out of vocabulary\n",
      "Skipping pair (reason, hypertension): Out of vocabulary\n",
      "Skipping pair (glass, magician): Out of vocabulary\n",
      "Skipping pair (cemetery, woodland): Out of vocabulary\n",
      "Skipping pair (production, hike): Out of vocabulary\n",
      "Skipping pair (delay, racism): Out of vocabulary\n",
      "Skipping pair (stock, jaguar): Out of vocabulary\n",
      "Skipping pair (lad, wizard): Out of vocabulary\n",
      "Skipping pair (rooster, voyage): Out of vocabulary\n",
      "Skipping pair (professor, cucumber): Out of vocabulary\n",
      "Skipping pair (king, cabbage): Out of vocabulary\n",
      "Spearman Correlation: -0.1843\n",
      "P-value: 0.0239\n",
      "Mean Squared Error (MSE): 23.8484\n"
     ]
    }
   ],
   "source": [
    "# Create word_vectors from the model\n",
    "word_vectors = {word: new_model.wv[word] for word in new_model.wv.index_to_key}\n",
    "\n",
    "# Compute the scores\n",
    "model_scores, human_scores = compute_model_similarity(word_vectors, similarity_dataset)\n",
    "\n",
    "# Handle empty results if any\n",
    "if len(model_scores) == 0 or len(human_scores) == 0:\n",
    "    print(\"Error: No valid word pairs found. Cannot compute similarity metrics.\")\n",
    "else:\n",
    "    # Calculate Spearman Correlation\n",
    "    correlation, p_value = spearmanr(model_scores, human_scores)\n",
    "    print(f\"Spearman Correlation: {correlation:.4f}\")\n",
    "    print(f\"P-value: {p_value:.4f}\")\n",
    "\n",
    "    # Calculate Mean Squared Error\n",
    "    mse = mean_squared_error(human_scores, model_scores)\n",
    "    print(f\"Mean Squared Error (MSE): {mse:.4f}\")\n"
   ]
  },
  {
   "cell_type": "code",
   "execution_count": 35,
   "metadata": {},
   "outputs": [
    {
     "name": "stdout",
     "output_type": "stream",
     "text": [
      "Model Score vs Human Score\n",
      "\n",
      "[0.2636452, 0.09986299, 11.193084, 8.769119, 4.9131165, 2.227611, 2.9236593, 1.7315123, 2.6863885, 3.1246262, 0.66765136, 3.4583485, 4.097802, 1.1105068, 0.1448311, 0.91283554, 1.4731244, 0.9286227, 4.662569, 4.0394993, 0.97866476, 0.7732557, 2.8201995, 0.2605217, 0.58949065, 3.6798487, 0.5782098, 4.1441, 1.2454045, 0.60624045, 0.06838526, 1.9688085, 1.0869204, 0.44689113, 1.0309937, 1.7594883, 1.808565, 4.1165276, 1.0241652, 1.1955478, 5.6508474, 4.2342386, 25.65307, 3.3880036, 2.801402, 1.6490415, 13.089022, 5.3028398, 12.702629, 11.086023, 0.9809389, 7.214598, 4.293868, 1.009791, 0.22519693, 2.5488079, 0.7476666, 4.6274233, 6.852212, 0.61767614, 28.442516, 5.225531, 3.669213, 0.35669845, 6.588657, 3.4064012, 4.914613, 1.2460282, 5.594714, 0.7003756, 7.6465282, 6.4703493, 2.1939778, 6.9818354, 1.2784842, 7.9586163, 4.316806, 1.0335865, 1.6281059, 3.8454542, 9.129059, 5.400036, 3.7202632, 1.6942194, 3.172385, 0.66770536, 1.130409, 2.6103678, 8.124785, 3.0288007, 8.708677, 5.165339, 9.769043, 5.286377, 2.3574314, 1.6499119, 0.9628571, 1.5833063, 2.6726933, 14.128653, 5.616479, 5.595386, 2.6099448, 2.9893684, 2.8231664, 6.044138, 6.0692782, 7.8517303, 8.227822, 10.7047, 13.412472, 3.6376805, 3.4496198, 6.711857, 2.813499, 2.391102, 3.3341005, 8.959328, 2.595754, 7.4093966, 1.0531577, 4.483629, 2.3815982, 1.8462856, 3.2596073, 5.1459074, 8.382061, 3.7628248, 0.08210932, 1.5455436, 4.7353487, 1.3001432, 5.7310615, 5.043928, 7.454805, 3.3589237, 0.81146127, 1.5009117, 5.8216295, 4.233972, 1.5547287, 4.6849127, 1.7429725, 0.700183, 3.335704, 9.068325, 0.64684963, 4.8877397, 1.2280421, 0.5781205]\n",
      "[7.35, 10.0, 5.77, 6.31, 6.77, 7.42, 6.19, 7.0, 6.62, 6.81, 5.81, 7.73, 9.15, 8.58, 6.69, 6.81, 6.63, 7.35, 6.87, 8.94, 9.29, 8.83, 9.1, 9.29, 8.79, 7.52, 7.1, 8.42, 9.04, 7.0, 4.77, 6.71, 5.58, 8.45, 8.08, 8.02, 5.85, 3.69, 2.15, 8.66, 6.22, 6.5, 7.59, 7.56, 5.0, 8.13, 7.88, 5.0, 8.97, 6.44, 8.88, 6.88, 7.81, 7.63, 8.44, 7.63, 9.22, 7.13, 7.89, 8.36, 8.3, 5.25, 6.88, 7.44, 5.56, 7.83, 7.59, 7.19, 5.0, 4.97, 4.94, 4.94, 4.88, 4.81, 4.75, 4.75, 4.75, 4.69, 4.62, 4.59, 4.56, 4.5, 4.47, 4.47, 4.47, 4.46, 4.38, 4.38, 4.25, 4.13, 4.06, 4.06, 3.97, 3.91, 3.88, 3.88, 3.88, 3.85, 3.78, 3.75, 3.73, 3.69, 3.69, 3.69, 3.69, 3.63, 3.63, 3.56, 3.47, 3.44, 3.38, 3.38, 3.31, 3.31, 3.31, 3.25, 3.19, 3.16, 3.15, 3.04, 3.0, 2.94, 2.94, 2.88, 2.75, 2.69, 2.65, 2.63, 2.56, 2.5, 2.4, 2.38, 2.25, 2.22, 1.94, 1.92, 1.85, 1.81, 1.81, 1.81, 1.77, 1.62, 1.62, 1.31, 1.31, 0.92, 0.92, 0.88, 0.54, 0.54]\n"
     ]
    }
   ],
   "source": [
    "print(\"Model Score vs Human Score\\n\")\n",
    "print(model_scores)\n",
    "print(human_scores)"
   ]
  },
  {
   "cell_type": "code",
   "execution_count": null,
   "metadata": {},
   "outputs": [],
   "source": []
  }
 ],
 "metadata": {
  "kernelspec": {
   "display_name": "Python 3",
   "language": "python",
   "name": "python3"
  },
  "language_info": {
   "codemirror_mode": {
    "name": "ipython",
    "version": 3
   },
   "file_extension": ".py",
   "mimetype": "text/x-python",
   "name": "python",
   "nbconvert_exporter": "python",
   "pygments_lexer": "ipython3",
   "version": "3.12.5"
  }
 },
 "nbformat": 4,
 "nbformat_minor": 2
}
