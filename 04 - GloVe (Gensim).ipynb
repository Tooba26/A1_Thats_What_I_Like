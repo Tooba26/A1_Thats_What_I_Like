{
 "cells": [
  {
   "attachments": {},
   "cell_type": "markdown",
   "metadata": {},
   "source": [
    "# GloVe (Gensim)\n",
    "\n",
    "For looking at word vectors, we'll use **Gensim**. **Gensim** isn't really a deep learning package. It's a package for for word and text similarity modeling, which started with (LDA-style) topic models and grew into SVD and neural word representations. But its efficient and scalable, and quite widely used.   We gonna use **GloVe** embeddings, downloaded at [the Glove page](https://nlp.stanford.edu/projects/glove/). They're inside [this zip file](https://nlp.stanford.edu/data/glove.6B.zip)"
   ]
  },
  {
   "cell_type": "code",
   "execution_count": 1,
   "metadata": {},
   "outputs": [],
   "source": [
    "from gensim.test.utils import datapath\n",
    "from gensim.models import KeyedVectors\n",
    "from gensim.scripts.glove2word2vec import glove2word2vec\n",
    "import gensim\n",
    "\n",
    "#you have to put this file in some python/gensim directory; just run it and it will inform where to put....\n"
   ]
  },
  {
   "cell_type": "code",
   "execution_count": 2,
   "metadata": {},
   "outputs": [],
   "source": [
    "from nltk.corpus import brown\n",
    "model = gensim.models.Word2Vec(brown.sents())"
   ]
  },
  {
   "cell_type": "code",
   "execution_count": 3,
   "metadata": {},
   "outputs": [],
   "source": [
    "model.save('brown.embedding')\n",
    "new_model = gensim.models.Word2Vec.load('brown.embedding')"
   ]
  },
  {
   "cell_type": "code",
   "execution_count": 4,
   "metadata": {},
   "outputs": [
    {
     "name": "stdout",
     "output_type": "stream",
     "text": [
      "Most similar words to 'government': [('nation', 0.9280838370323181), ('policy', 0.9250353574752808), ('power', 0.9234175086021423), ('Christian', 0.9232916235923767), ('education', 0.9203680753707886)]\n"
     ]
    }
   ],
   "source": [
    "similar_words = new_model.wv.most_similar(positive=['government'], topn=5)\n",
    "print(\"Most similar words to 'government':\", similar_words)\n"
   ]
  },
  {
   "cell_type": "markdown",
   "metadata": {},
   "source": [
    "### Similarity"
   ]
  },
  {
   "cell_type": "code",
   "execution_count": 7,
   "metadata": {},
   "outputs": [
    {
     "data": {
      "text/plain": [
       "<gensim.models.word2vec.Word2Vec at 0x16a48f22cc0>"
      ]
     },
     "execution_count": 7,
     "metadata": {},
     "output_type": "execute_result"
    }
   ],
   "source": [
    "model"
   ]
  },
  {
   "cell_type": "code",
   "execution_count": 9,
   "metadata": {},
   "outputs": [
    {
     "data": {
      "text/plain": [
       "[('nation', 0.9279264211654663),\n",
       " ('policy', 0.9250516891479492),\n",
       " ('Christian', 0.9233377575874329),\n",
       " ('power', 0.9232932925224304),\n",
       " ('education', 0.9204490780830383),\n",
       " ('national', 0.9140437841415405),\n",
       " ('community', 0.9124909043312073),\n",
       " ('land', 0.9083278179168701),\n",
       " ('property', 0.9076618552207947),\n",
       " ('influence', 0.9051369428634644)]"
      ]
     },
     "execution_count": 9,
     "metadata": {},
     "output_type": "execute_result"
    }
   ],
   "source": [
    "model.wv.most_similar('government')\n"
   ]
  },
  {
   "cell_type": "code",
   "execution_count": 12,
   "metadata": {},
   "outputs": [
    {
     "data": {
      "text/plain": [
       "[('Review', 0.9578880071640015),\n",
       " ('delightful', 0.9484356641769409),\n",
       " ('Don', 0.9466079473495483),\n",
       " ('Inquirer', 0.9457445740699768),\n",
       " ('ended', 0.9448115229606628),\n",
       " ('birth', 0.9442985653877258),\n",
       " ('whipped', 0.9438348412513733),\n",
       " ('Spirit', 0.9434307217597961),\n",
       " ('painting', 0.943360447883606),\n",
       " ('device', 0.9418430328369141)]"
      ]
     },
     "execution_count": 12,
     "metadata": {},
     "output_type": "execute_result"
    }
   ],
   "source": [
    "model.wv.most_similar('news')"
   ]
  },
  {
   "cell_type": "code",
   "execution_count": 15,
   "metadata": {},
   "outputs": [
    {
     "data": {
      "text/plain": [
       "[('burst', 0.97023606300354),\n",
       " ('blood', 0.9620119333267212),\n",
       " ('canvas', 0.960625946521759),\n",
       " ('dust', 0.9556315541267395),\n",
       " ('flowing', 0.955418050289154),\n",
       " ('bank', 0.9546336531639099),\n",
       " ('passing', 0.9531573057174683),\n",
       " ('dirt', 0.9525600075721741),\n",
       " ('stomach', 0.9520723819732666),\n",
       " ('pocket', 0.9511598348617554)]"
      ]
     },
     "execution_count": 15,
     "metadata": {},
     "output_type": "execute_result"
    }
   ],
   "source": [
    "model.wv.most_similar('cockpit')"
   ]
  },
  {
   "cell_type": "code",
   "execution_count": 17,
   "metadata": {},
   "outputs": [
    {
     "data": {
      "text/plain": [
       "[('annual', 0.9620032906532288),\n",
       " ('stock', 0.9529806971549988),\n",
       " ('energy', 0.9507768154144287),\n",
       " ('location', 0.9443334937095642),\n",
       " ('loss', 0.939910352230072),\n",
       " ('expansion', 0.9393026828765869),\n",
       " ('department', 0.9380593299865723),\n",
       " ('substrate', 0.9379379749298096),\n",
       " ('central', 0.9372892379760742),\n",
       " ('minimum', 0.936808168888092)]"
      ]
     },
     "execution_count": 17,
     "metadata": {},
     "output_type": "execute_result"
    }
   ],
   "source": [
    "#multiple meanings....\n",
    "model.wv.most_similar(\"plant\")"
   ]
  },
  {
   "cell_type": "code",
   "execution_count": 18,
   "metadata": {},
   "outputs": [
    {
     "data": {
      "text/plain": [
       "[('Pozzatti', -0.0041749500669538975),\n",
       " ('no', -0.13597336411476135),\n",
       " ('could', -0.14076082408428192),\n",
       " ('I', -0.14120113849639893),\n",
       " ('would', -0.1454966813325882),\n",
       " ('they', -0.14558346569538116),\n",
       " ('were', -0.14857539534568787),\n",
       " ('Manuel', -0.14887766540050507),\n",
       " ('We', -0.15005847811698914),\n",
       " ('should', -0.15307846665382385)]"
      ]
     },
     "execution_count": 18,
     "metadata": {},
     "output_type": "execute_result"
    }
   ],
   "source": [
    "model.wv.most_similar(negative='pilot')"
   ]
  },
  {
   "cell_type": "code",
   "execution_count": 20,
   "metadata": {},
   "outputs": [
    {
     "name": "stdout",
     "output_type": "stream",
     "text": [
      "pains: 0.9278\n"
     ]
    }
   ],
   "source": [
    "#woman + king - man\n",
    "result = model.wv.most_similar(positive=['pilot', 'flight'], negative=['member'])\n",
    "print(\"{}: {:.4f}\".format(*result[0]))"
   ]
  },
  {
   "cell_type": "code",
   "execution_count": 21,
   "metadata": {},
   "outputs": [
    {
     "name": "stdout",
     "output_type": "stream",
     "text": [
      "urbanization: 0.8426\n"
     ]
    }
   ],
   "source": [
    "result = model.wv.most_similar(positive=['fraud', 'member'], negative=['Italy'])\n",
    "print(\"{}: {:.4f}\".format(*result[0]))"
   ]
  },
  {
   "attachments": {},
   "cell_type": "markdown",
   "metadata": {},
   "source": [
    "### Cosine Similarity\n",
    "\n",
    "We have talked about this in the last class.  Here we can conveniently use `distance` to find the cosine distance between two words. Note that distance = 1 - similarity."
   ]
  },
  {
   "cell_type": "code",
   "execution_count": 25,
   "metadata": {},
   "outputs": [
    {
     "data": {
      "text/plain": [
       "(0.08872437477111816, 0.13065767288208008)"
      ]
     },
     "execution_count": 25,
     "metadata": {},
     "output_type": "execute_result"
    }
   ],
   "source": [
    "w1 = \"flight\"\n",
    "w2 = \"pilot\"\n",
    "w3 = \"news\"\n",
    "w1_w2_dist = model.wv.distance(w1, w2)\n",
    "w1_w3_dist = model.wv.distance(w1, w3)\n",
    "\n",
    "#dog is much closer to cat then dog to fruit\n",
    "w1_w2_dist, w1_w3_dist"
   ]
  },
  {
   "cell_type": "code",
   "execution_count": 26,
   "metadata": {},
   "outputs": [
    {
     "data": {
      "text/plain": [
       "(0.3813439607620239, 0.1319880485534668)"
      ]
     },
     "execution_count": 26,
     "metadata": {},
     "output_type": "execute_result"
    }
   ],
   "source": [
    "w1 = \"happy\" # synonym 1\n",
    "w2 = \"cheerful\" # synonym 2\n",
    "w3 = \"sad\" # antonym\n",
    "w1_w2_dist = model.wv.distance(w1, w2)\n",
    "w1_w3_dist = model.wv.distance(w1, w3)\n",
    "\n",
    "#$w_1$=\"happy\" is closer to $w_3$=\"sad\" than to $w_2$=\"cheerful\"!!\n",
    "#those similarlity does not handle antonym....\n",
    "w1_w2_dist, w1_w3_dist"
   ]
  },
  {
   "cell_type": "markdown",
   "metadata": {},
   "source": [
    "### Analogy"
   ]
  },
  {
   "cell_type": "code",
   "execution_count": 16,
   "metadata": {},
   "outputs": [],
   "source": [
    "def analogy(x1, x2, y1):\n",
    "    result = model.most_similar(positive=[y1, x2], negative=[x1])\n",
    "    return result[0][0]"
   ]
  },
  {
   "cell_type": "code",
   "execution_count": 17,
   "metadata": {},
   "outputs": [
    {
     "data": {
      "text/plain": [
       "'australian'"
      ]
     },
     "execution_count": 17,
     "metadata": {},
     "output_type": "execute_result"
    }
   ],
   "source": [
    "analogy('japan', 'japanese', 'australia')"
   ]
  },
  {
   "cell_type": "code",
   "execution_count": 18,
   "metadata": {},
   "outputs": [
    {
     "data": {
      "text/plain": [
       "'tapas'"
      ]
     },
     "execution_count": 18,
     "metadata": {},
     "output_type": "execute_result"
    }
   ],
   "source": [
    "analogy('japan', 'sushi', 'italy')"
   ]
  },
  {
   "cell_type": "code",
   "execution_count": 19,
   "metadata": {},
   "outputs": [
    {
     "data": {
      "text/plain": [
       "'champagne'"
      ]
     },
     "execution_count": 19,
     "metadata": {},
     "output_type": "execute_result"
    }
   ],
   "source": [
    "analogy('australia', 'beer', 'france')"
   ]
  },
  {
   "cell_type": "code",
   "execution_count": 20,
   "metadata": {},
   "outputs": [
    {
     "data": {
      "text/plain": [
       "'nixon'"
      ]
     },
     "execution_count": 20,
     "metadata": {},
     "output_type": "execute_result"
    }
   ],
   "source": [
    "analogy('obama', 'clinton', 'reagan')"
   ]
  },
  {
   "cell_type": "code",
   "execution_count": 21,
   "metadata": {},
   "outputs": [
    {
     "data": {
      "text/plain": [
       "'longest'"
      ]
     },
     "execution_count": 21,
     "metadata": {},
     "output_type": "execute_result"
    }
   ],
   "source": [
    "analogy('tall', 'tallest', 'long')"
   ]
  },
  {
   "cell_type": "code",
   "execution_count": 22,
   "metadata": {},
   "outputs": [
    {
     "data": {
      "text/plain": [
       "'terrible'"
      ]
     },
     "execution_count": 22,
     "metadata": {},
     "output_type": "execute_result"
    }
   ],
   "source": [
    "analogy('good', 'fantastic', 'bad')"
   ]
  },
  {
   "cell_type": "code",
   "execution_count": 23,
   "metadata": {},
   "outputs": [
    {
     "data": {
      "text/plain": [
       "'bound'"
      ]
     },
     "execution_count": 23,
     "metadata": {},
     "output_type": "execute_result"
    }
   ],
   "source": [
    "analogy('bird', 'fly', 'human')"
   ]
  },
  {
   "cell_type": "code",
   "execution_count": 24,
   "metadata": {},
   "outputs": [
    {
     "name": "stdout",
     "output_type": "stream",
     "text": [
      "water\n"
     ]
    }
   ],
   "source": [
    "#which word in the list does not belong\n",
    "print(model.doesnt_match(\"coke pepsi sprite water\".split()))"
   ]
  },
  {
   "cell_type": "markdown",
   "metadata": {},
   "source": [
    "### Visualization"
   ]
  },
  {
   "cell_type": "code",
   "execution_count": 20,
   "metadata": {},
   "outputs": [
    {
     "data": {
      "image/png": "[encoded data removed]",
      "text/plain": [
       "<Figure size 1200x1200 with 1 Axes>"
      ]
     },
     "metadata": {},
     "output_type": "display_data"
    }
   ],
   "source": [
    "\n",
    "from sklearn.decomposition import PCA\n",
    "import numpy as np\n",
    "import matplotlib.pyplot as plt\n",
    "from nltk.corpus import brown\n",
    "import random\n",
    "\n",
    "# Extract words from the Brown corpus and filter out duplicates\n",
    "words_from_brown = list(set(word.lower() for sent in brown.sents() for word in sent))\n",
    "\n",
    "# Randomly sample a subset of words for visualization (optional)\n",
    "# Adjust `sample_size` to include more or fewer words\n",
    "sample_size = 100\n",
    "random_words = random.sample(words_from_brown, sample_size)\n",
    "\n",
    "# Filter out words not in the Word2Vec vocabulary\n",
    "valid_words = [word for word in random_words if word in new_model.wv.key_to_index]\n",
    "\n",
    "# Get the word vectors for the valid words\n",
    "word_vectors = np.array([new_model.wv[word] for word in valid_words])\n",
    "\n",
    "# Reduce dimensions to 2D using PCA\n",
    "pca = PCA(n_components=2)\n",
    "twodim = pca.fit_transform(word_vectors)\n",
    "\n",
    "# Plot the results\n",
    "plt.figure(figsize=(12, 12))\n",
    "plt.scatter(twodim[:, 0], twodim[:, 1], edgecolors='k', c='r')\n",
    "for word, (x, y) in zip(valid_words, twodim):\n",
    "    plt.text(x + 0.05, y + 0.05, word, fontsize=10)\n",
    "\n",
    "plt.title(\"Word Embeddings Visualization (Brown Corpus Sample)\")\n",
    "plt.show()\n"
   ]
  },
  {
   "cell_type": "code",
   "execution_count": 27,
   "metadata": {},
   "outputs": [],
   "source": [
    "# Function to load and split the dataset into semantic and syntactic questions\n",
    "def load_dataset(filepath):\n",
    "    \"\"\"\n",
    "    Load the analogy dataset and split into semantic and syntactic categories.\n",
    "    Args:\n",
    "        filepath (str): Path to the dataset file.\n",
    "    Returns:\n",
    "        tuple: Two lists containing semantic and syntactic analogy questions.\n",
    "    \"\"\"\n",
    "    semantic_questions = []\n",
    "    syntactic_questions = []\n",
    "    current_section = None\n",
    "\n",
    "    with open(filepath, \"r\") as f:\n",
    "        for line in f:\n",
    "            line = line.strip()\n",
    "            if line.startswith(\":\"):\n",
    "                # Identify the section type\n",
    "                if \"capital-common-countries\" in line.lower():\n",
    "                    current_section = \"semantic\"\n",
    "                elif \"past-tense\" in line.lower():\n",
    "                    current_section = \"syntactic\"\n",
    "                else:\n",
    "                    current_section = None\n",
    "            elif current_section == \"semantic\":\n",
    "                semantic_questions.append(line.split())\n",
    "            elif current_section == \"syntactic\":\n",
    "                syntactic_questions.append(line.split())\n",
    "    \n",
    "    return semantic_questions, syntactic_questions"
   ]
  },
  {
   "cell_type": "code",
   "execution_count": 30,
   "metadata": {},
   "outputs": [],
   "source": [
    "# Define calculate_accuracy function\n",
    "from sklearn.metrics.pairwise import cosine_similarity\n",
    "import numpy as np\n",
    "\n",
    "def calculate_accuracy(questions, word_vectors, word2index):\n",
    "    \"\"\"\n",
    "    Calculate accuracy for analogy questions.\n",
    "    Args:\n",
    "        questions (list): List of analogy questions in format [a, b, c, d].\n",
    "        word_vectors (np.array): Word embedding matrix.\n",
    "        word2index (dict): Mapping of words to their indices in the embedding matrix.\n",
    "    Returns:\n",
    "        float: Accuracy as a percentage.\n",
    "    \"\"\"\n",
    "    correct = 0\n",
    "    total = 0\n",
    "\n",
    "    for a, b, c, d in questions:\n",
    "        try:\n",
    "            # Ensure all words are in the vocabulary\n",
    "            if a in word2index and b in word2index and c in word2index and d in word2index:\n",
    "                vec_a = word_vectors[word2index[a]]\n",
    "                vec_b = word_vectors[word2index[b]]\n",
    "                vec_c = word_vectors[word2index[c]]\n",
    "\n",
    "                # Compute vector: b - a + c\n",
    "                target_vector = vec_b - vec_a + vec_c\n",
    "\n",
    "                # Compute cosine similarities\n",
    "                similarities = cosine_similarity(target_vector.reshape(1, -1), word_vectors)\n",
    "                predicted_index = np.argmax(similarities)\n",
    "\n",
    "                # Retrieve the predicted word\n",
    "                predicted_word = list(word2index.keys())[predicted_index]\n",
    "\n",
    "                if predicted_word == d:\n",
    "                    correct += 1\n",
    "                total += 1\n",
    "        except KeyError:\n",
    "            # Skip if any word is not in the vocabulary\n",
    "            continue\n",
    "\n",
    "    return (correct / total) * 100 if total > 0 else 0"
   ]
  },
  {
   "cell_type": "code",
   "execution_count": 42,
   "metadata": {},
   "outputs": [
    {
     "name": "stdout",
     "output_type": "stream",
     "text": [
      "Semantic Accuracy: 0.00%\n",
      "Syntactic Accuracy: 0.08%\n"
     ]
    }
   ],
   "source": [
    "# Load the dataset\n",
    "dataset_file = \"word-test.v1.txt\"\n",
    "\n",
    "\n",
    "\n",
    "# Load semantic and syntactic questions\n",
    "semantic_questions, syntactic_questions = load_dataset(dataset_file)\n",
    "\n",
    "# Prepare word vectors and word2index\n",
    "word_vectors = new_model.wv.vectors  # Word embedding matrix\n",
    "word2index = {word: idx for idx, word in enumerate(new_model.wv.index_to_key)}\n",
    "\n",
    "\n",
    "\n",
    "# Calculate accuracies\n",
    "semantic_accuracy = calculate_accuracy(semantic_questions, word_vectors, word2index)\n",
    "syntactic_accuracy = calculate_accuracy(syntactic_questions, word_vectors, word2index)\n",
    "\n",
    "# Print results\n",
    "print(f\"Semantic Accuracy: {semantic_accuracy:.2f}%\")\n",
    "print(f\"Syntactic Accuracy: {syntactic_accuracy:.2f}%\")\n"
   ]
  },
  {
   "cell_type": "code",
   "execution_count": 39,
   "metadata": {},
   "outputs": [],
   "source": [
    "new_model = gensim.models.Word2Vec.load('brown.embedding')"
   ]
  },
  {
   "cell_type": "code",
   "execution_count": 40,
   "metadata": {},
   "outputs": [
    {
     "name": "stdout",
     "output_type": "stream",
     "text": [
      "[ 0.24293298  1.5617957   0.5121485   0.52857745 -0.6878522  -0.9278225\n",
      "  1.5899794  -0.10833415 -0.5321149  -0.48679182  0.63970643  0.2374652\n",
      "  0.9493387  -0.41469616 -0.45870706  1.0161306  -1.3428508  -0.868837\n",
      " -0.4796059  -1.311169    0.7913593   0.9862174   0.36956704 -0.5558142\n",
      " -0.726037    0.32404464  0.54611385 -1.1215762  -1.141693    0.8444152\n",
      " -0.59419286 -0.04327312  0.04307627  0.8041814   0.27291322 -0.9345959\n",
      "  0.19817194 -0.4103749  -1.2073148  -0.1963934  -1.1235744   0.36000973\n",
      " -0.06948667 -0.4403129   1.0132779   0.5542793   0.39819375  0.9400895\n",
      "  0.2582892  -0.06010263 -0.10383717  0.5144473   0.46930748 -0.6184748\n",
      "  0.71805584 -0.66957307  0.49415126 -0.7171561  -1.4998271   0.04714202\n",
      "  1.2313678   0.76767147 -0.74596274 -1.0724891  -0.7305984   0.45220396\n",
      " -1.2393025   0.8642767  -0.7585473   0.6133182   0.07486981 -0.11232229\n",
      " -0.5617895  -0.81546354  0.22068542  1.2461424   0.8397422  -0.4387315\n",
      "  0.06597789 -0.43028614 -0.03245175  0.8370363   0.54896975  0.49300006\n",
      " -1.0817364  -0.15675911  1.1627853  -0.09776354  0.05557398  0.6564389\n",
      "  0.8022999   0.10340618  0.00659644  0.43035164  0.1891423   0.04135404\n",
      " -1.4338744  -0.5124795   1.0828694   0.8654184 ]\n"
     ]
    }
   ],
   "source": [
    "print(new_model.wv['the'])"
   ]
  },
  {
   "cell_type": "code",
   "execution_count": null,
   "metadata": {},
   "outputs": [],
   "source": []
  }
 ],
 "metadata": {
  "kernelspec": {
   "display_name": "Python 3",
   "language": "python",
   "name": "python3"
  },
  "language_info": {
   "codemirror_mode": {
    "name": "ipython",
    "version": 3
   },
   "file_extension": ".py",
   "mimetype": "text/x-python",
   "name": "python",
   "nbconvert_exporter": "python",
   "pygments_lexer": "ipython3",
   "version": "3.12.5"
  }
 },
 "nbformat": 4,
 "nbformat_minor": 2
}
